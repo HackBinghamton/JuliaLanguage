{
  "nbformat": 4,
  "nbformat_minor": 0,
  "metadata": {
    "colab": {
      "name": "Julia_Colab_Notebook_Template.ipynb",
      "provenance": [],
      "collapsed_sections": [],
      "toc_visible": true
    },
    "kernelspec": {
      "display_name": "Julia",
      "language": "julia",
      "name": "julia"
    },
    "language_info": {
      "file_extension": ".jl",
      "mimetype": "application/julia",
      "name": "julia"
    }
  },
  "cells": [
    {
      "cell_type": "markdown",
      "metadata": {
        "id": "tQ1r1bbb0yBv"
      },
      "source": [
        "# <img src=\"https://github.com/JuliaLang/julia-logo-graphics/raw/master/images/julia-logo-color.png\" height=\"100\" /> _HackBU Workshop_\n",
        "\n",
        "## RUN THE FOLLOWING TO DOWNLOAD JULIA:\n"
      ]
    },
    {
      "cell_type": "code",
      "metadata": {
        "id": "GIeFXS0F0zww",
        "colab": {
          "base_uri": "https://localhost:8080/"
        },
        "outputId": "47dc0cd9-5ccc-40e2-95d2-c076e404cbab"
      },
      "source": [
        "%%shell\n",
        "set -e\n",
        "\n",
        "#---------------------------------------------------#\n",
        "JULIA_VERSION=\"1.7.1\" # any version ≥ 0.7.0\n",
        "JULIA_PACKAGES=\"IJulia BenchmarkTools Plots\"\n",
        "JULIA_PACKAGES_IF_GPU=\"CUDA\" # or CuArrays for older Julia versions\n",
        "JULIA_NUM_THREADS=2\n",
        "#---------------------------------------------------#\n",
        "\n",
        "if [ -n \"$COLAB_GPU\" ] && [ -z `which julia` ]; then\n",
        "  # Install Julia\n",
        "  JULIA_VER=`cut -d '.' -f -2 <<< \"$JULIA_VERSION\"`\n",
        "  echo \"Installing Julia $JULIA_VERSION on the current Colab Runtime...\"\n",
        "  BASE_URL=\"https://julialang-s3.julialang.org/bin/linux/x64\"\n",
        "  URL=\"$BASE_URL/$JULIA_VER/julia-$JULIA_VERSION-linux-x86_64.tar.gz\"\n",
        "  wget -nv $URL -O /tmp/julia.tar.gz # -nv means \"not verbose\"\n",
        "  tar -x -f /tmp/julia.tar.gz -C /usr/local --strip-components 1\n",
        "  rm /tmp/julia.tar.gz\n",
        "\n",
        "  # Install Packages\n",
        "  if [ \"$COLAB_GPU\" = \"1\" ]; then\n",
        "      JULIA_PACKAGES=\"$JULIA_PACKAGES $JULIA_PACKAGES_IF_GPU\"\n",
        "  fi\n",
        "  for PKG in `echo $JULIA_PACKAGES`; do\n",
        "    echo \"Installing Julia package $PKG...\"\n",
        "    julia -e 'using Pkg; pkg\"add '$PKG'; precompile;\"' &> /dev/null\n",
        "  done\n",
        "\n",
        "  # Install kernel and rename it to \"julia\"\n",
        "  echo \"Installing IJulia kernel...\"\n",
        "  julia -e 'using IJulia; IJulia.installkernel(\"julia\", env=Dict(\n",
        "      \"JULIA_NUM_THREADS\"=>\"'\"$JULIA_NUM_THREADS\"'\"))'\n",
        "  KERNEL_DIR=`julia -e \"using IJulia; print(IJulia.kerneldir())\"`\n",
        "  KERNEL_NAME=`ls -d \"$KERNEL_DIR\"/julia*`\n",
        "  mv -f $KERNEL_NAME \"$KERNEL_DIR\"/julia  \n",
        "\n",
        "  echo ''\n",
        "  echo \"Successfully installed `julia -v`!\"\n",
        "  echo \"Please reload this page (press Ctrl+R, ⌘+R, or the F5 key) then\"\n",
        "  echo \"jump to the 'Checking the Installation' section.\"\n",
        "fi"
      ],
      "execution_count": null,
      "outputs": [
        {
          "output_type": "stream",
          "name": "stdout",
          "text": [
            "Installing Julia 1.7.1 on the current Colab Runtime...\n",
            "2022-03-28 17:04:49 URL:https://storage.googleapis.com/julialang2/bin/linux/x64/1.7/julia-1.7.1-linux-x86_64.tar.gz [123374573/123374573] -> \"/tmp/julia.tar.gz\" [1]\n",
            "Installing Julia package IJulia...\n",
            "Installing Julia package BenchmarkTools...\n",
            "Installing Julia package Plots...\n",
            "Installing IJulia kernel...\n",
            "\u001b[36m\u001b[1m[ \u001b[22m\u001b[39m\u001b[36m\u001b[1mInfo: \u001b[22m\u001b[39mInstalling julia kernelspec in /root/.local/share/jupyter/kernels/julia-1.7\n",
            "\n",
            "Successfully installed julia version 1.7.1!\n",
            "Please reload this page (press Ctrl+R, ⌘+R, or the F5 key) then\n",
            "jump to the 'Checking the Installation' section.\n"
          ]
        },
        {
          "output_type": "execute_result",
          "data": {
            "text/plain": [
              ""
            ]
          },
          "metadata": {},
          "execution_count": 1
        }
      ]
    },
    {
      "cell_type": "markdown",
      "metadata": {
        "id": "-OS3Ac017T1i"
      },
      "source": [
        "# Checking the Installation\n",
        "The `versioninfo()` function should print your Julia version and some other info about the system:"
      ]
    },
    {
      "cell_type": "code",
      "metadata": {
        "id": "EEzvvzCl1i0F",
        "colab": {
          "base_uri": "https://localhost:8080/"
        },
        "outputId": "3b087952-cfda-4ba0-e798-64a0fdf3ebdc"
      },
      "source": [
        "versioninfo()"
      ],
      "execution_count": 1,
      "outputs": [
        {
          "output_type": "stream",
          "name": "stdout",
          "text": [
            "Julia Version 1.7.1\n",
            "Commit ac5cc99908 (2021-12-22 19:35 UTC)\n",
            "Platform Info:\n",
            "  OS: Linux (x86_64-pc-linux-gnu)\n",
            "  CPU: Intel(R) Xeon(R) CPU @ 2.20GHz\n",
            "  WORD_SIZE: 64\n",
            "  LIBM: libopenlibm\n",
            "  LLVM: libLLVM-12.0.1 (ORCJIT, broadwell)\n",
            "Environment:\n",
            "  JULIA_NUM_THREADS = 2\n"
          ]
        }
      ]
    },
    {
      "cell_type": "code",
      "source": [
        "using BenchmarkTools\n",
        "\n",
        "M = rand(2^11, 2^11)\n",
        "\n",
        "@btime $M * $M;"
      ],
      "metadata": {
        "colab": {
          "base_uri": "https://localhost:8080/"
        },
        "id": "YjM_qq54lCcs",
        "outputId": "d516a46d-86dc-4c6f-af78-5a5928f3895b"
      },
      "execution_count": 2,
      "outputs": [
        {
          "output_type": "stream",
          "name": "stdout",
          "text": [
            "  458.309 ms (2 allocations: 32.00 MiB)\n"
          ]
        }
      ]
    },
    {
      "cell_type": "code",
      "metadata": {
        "id": "XciCcMAJOT3_",
        "colab": {
          "base_uri": "https://localhost:8080/"
        },
        "outputId": "e206533e-b1ad-402d-ff80-d30d2808313d"
      },
      "source": [
        "if ENV[\"COLAB_GPU\"] == \"1\"\n",
        "    using CUDA\n",
        "\n",
        "    run(`nvidia-smi`)\n",
        "\n",
        "    # Create a new random matrix directly on the GPU:\n",
        "    M_on_gpu = CUDA.CURAND.rand(2^11, 2^11)\n",
        "    @btime $M_on_gpu * $M_on_gpu; nothing\n",
        "else\n",
        "    println(\"No GPU found.\")\n",
        "end"
      ],
      "execution_count": 3,
      "outputs": [
        {
          "output_type": "stream",
          "name": "stdout",
          "text": [
            "No GPU found.\n"
          ]
        }
      ]
    },
    {
      "cell_type": "markdown",
      "metadata": {
        "id": "2UMidUQB03vJ"
      },
      "source": [
        "<img src=\"https://raw.githubusercontent.com/JuliaLang/julia-logo-graphics/master/images/julia-logo-mask.png\" height=\"100\" />"
      ]
    },
    {
      "cell_type": "markdown",
      "source": [
        "---\n",
        "# WORKSHOP STARTS HERE\n",
        "\n",
        "---\n",
        "\n",
        "## The Very Basics\n",
        "\n",
        "First thing with any new language: the \"Hello World\" program. In Julia, we use `print` to print text to the console."
      ],
      "metadata": {
        "id": "YOUZ4990fYV9"
      }
    },
    {
      "cell_type": "code",
      "source": [
        "print(\"Hello World\")"
      ],
      "metadata": {
        "colab": {
          "base_uri": "https://localhost:8080/"
        },
        "id": "Wq6f0roGgxLb",
        "outputId": "6d8b4c3d-ab4c-41e6-ede9-1802936479c9"
      },
      "execution_count": 7,
      "outputs": [
        {
          "output_type": "stream",
          "name": "stdout",
          "text": [
            "Hello World"
          ]
        }
      ]
    },
    {
      "cell_type": "markdown",
      "source": [
        "Unlike similar languages like python, starting a new print statement does not automatically go to a new line. "
      ],
      "metadata": {
        "id": "fdCzp7ybhnNg"
      }
    },
    {
      "cell_type": "code",
      "source": [
        "print(\"Hello World\")\n",
        "print(\"New line ?\")"
      ],
      "metadata": {
        "colab": {
          "base_uri": "https://localhost:8080/"
        },
        "id": "k1QsmRxuiTBL",
        "outputId": "7a91abd0-d6d9-4b1b-e253-6aa52197458b"
      },
      "execution_count": 10,
      "outputs": [
        {
          "output_type": "stream",
          "name": "stdout",
          "text": [
            "Hello WorldNew line ?"
          ]
        }
      ]
    },
    {
      "cell_type": "markdown",
      "source": [
        "Julia offers us the same option as Python, where we can add `\\n` to the end of a line in order to start a new line."
      ],
      "metadata": {
        "id": "yLe-6q35iXyX"
      }
    },
    {
      "cell_type": "code",
      "source": [
        "print(\"Hello World\\n\")\n",
        "print(\"New line ?\")"
      ],
      "metadata": {
        "colab": {
          "base_uri": "https://localhost:8080/"
        },
        "id": "NkT1y922ipAd",
        "outputId": "a2e64635-bf14-4c21-9b10-a3447995efb0"
      },
      "execution_count": 11,
      "outputs": [
        {
          "output_type": "stream",
          "name": "stdout",
          "text": [
            "Hello World\n",
            "New line ?"
          ]
        }
      ]
    },
    {
      "cell_type": "markdown",
      "source": [
        "Julia also has another print option, `println`, to print with a new line at the end automatically."
      ],
      "metadata": {
        "id": "9JWrNhNoisrz"
      }
    },
    {
      "cell_type": "code",
      "source": [
        "println(\"Hello World!\")\n",
        "print(\"New line ?\")"
      ],
      "metadata": {
        "colab": {
          "base_uri": "https://localhost:8080/"
        },
        "id": "HuSA4xPFiyO1",
        "outputId": "10f998cf-3006-4ce7-927a-b52dde57cc2d"
      },
      "execution_count": 12,
      "outputs": [
        {
          "output_type": "stream",
          "name": "stdout",
          "text": [
            "Hello World!\n",
            "New line ?"
          ]
        }
      ]
    },
    {
      "cell_type": "markdown",
      "source": [
        "Something included in Python is the `type()` function, which allows you to output a variable's type. Julia has this too!"
      ],
      "metadata": {
        "id": "V7xrWnLli44k"
      }
    },
    {
      "cell_type": "code",
      "source": [
        "val = 42\n",
        "println(typeof(val))\n",
        "\n",
        "pi_val = 3.1415926535897932384626433832\n",
        "println(typeof(pi_val))\n",
        "\n",
        "# pi is a built-in variable in Julia!\n",
        "println(pi)\n",
        "println(typeof(pi))"
      ],
      "metadata": {
        "colab": {
          "base_uri": "https://localhost:8080/"
        },
        "id": "d9cONjcajCTg",
        "outputId": "37c130c9-70f3-4170-87ad-9044b8ba1da4"
      },
      "execution_count": 15,
      "outputs": [
        {
          "output_type": "stream",
          "name": "stdout",
          "text": [
            "Int64\n",
            "Float64\n",
            "π\n",
            "Irrational{:π}\n"
          ]
        }
      ]
    },
    {
      "cell_type": "markdown",
      "source": [
        "### Comments\n",
        "\n",
        "In Julia, short comments are done with a `#` symbol (the same way as python.) Long comments are done with `#=` to start and `=#` to end."
      ],
      "metadata": {
        "id": "8JEu9pATjmX1"
      }
    },
    {
      "cell_type": "code",
      "source": [
        "# Single comment\n",
        "# println(\"Test 0\")\n",
        "println(\"Test 1\")\n",
        "#=\n",
        "\n",
        "\n",
        "println(\"Test 2\")\n",
        "\n",
        "\n",
        "=#\n",
        "println(\"Test 3\")"
      ],
      "metadata": {
        "colab": {
          "base_uri": "https://localhost:8080/"
        },
        "id": "l4gUTiFlj0gk",
        "outputId": "92b60608-cb6c-4fa6-cfd4-bebb2536da6e"
      },
      "execution_count": 17,
      "outputs": [
        {
          "output_type": "stream",
          "name": "stdout",
          "text": [
            "Test 1\n",
            "Test 3\n"
          ]
        }
      ]
    },
    {
      "cell_type": "markdown",
      "source": [
        "### Unique Variables\n",
        "\n",
        "One of the advantages to Julia is that you have very unique options for what you can call variables.\n",
        "\n",
        "You can call variables anything that has a unicode value. One fun example of this is with emojis."
      ],
      "metadata": {
        "id": "U480RNzikFpV"
      }
    },
    {
      "cell_type": "code",
      "source": [
        "😝 = \"emoji!\"\n",
        "println(😝)\n",
        "\n",
        "print(typeof(😝))"
      ],
      "metadata": {
        "colab": {
          "base_uri": "https://localhost:8080/"
        },
        "id": "4F15YpmHlTwI",
        "outputId": "8b62c941-8416-48b8-c978-a9cfb3db0f14"
      },
      "execution_count": 20,
      "outputs": [
        {
          "output_type": "stream",
          "name": "stdout",
          "text": [
            "emoji!\n",
            "String"
          ]
        }
      ]
    },
    {
      "cell_type": "code",
      "source": [
        "😢 = -5\n",
        "😐 = 0\n",
        "😄 = 5\n",
        "\n",
        "println(😢 + 😄 == 😐)"
      ],
      "metadata": {
        "colab": {
          "base_uri": "https://localhost:8080/"
        },
        "id": "QSr5DMXYlcdG",
        "outputId": "eac0392f-8db0-4873-de1a-0d3d4c5de896"
      },
      "execution_count": 21,
      "outputs": [
        {
          "output_type": "stream",
          "name": "stdout",
          "text": [
            "true\n"
          ]
        }
      ]
    },
    {
      "cell_type": "markdown",
      "source": [
        "While this is fun, emojis don't have too many practical uses. \n",
        "\n",
        "Something that is practical: many researchers need to include mathematical formulas in their papers. Anyone who has had to convert math to code or code to math (or both) will tell you that it can be somewhat difficult to keep track of your variables. Julia makes this significantly easier by allowing you to use mathematical symbols and greek letters as variables!\n",
        "\n",
        "Some common variables you might have seen in your math or physics classes:"
      ],
      "metadata": {
        "id": "oOHREVu0l7Ke"
      }
    },
    {
      "cell_type": "code",
      "source": [
        "Δ = \"delta\"\n",
        "println(Δ)\n",
        "\n",
        "Σ = \"sigma\"\n",
        "println(Σ)\n",
        "\n",
        "Φ = \"phi\"\n",
        "println(Φ)\n",
        "\n",
        "Ψ = \"psi\"\n",
        "println(Ψ)\n",
        "\n",
        "α = \"alpha\"\n",
        "println(α)\n",
        "\n",
        "∫ = \"integral\"\n",
        "println(∫)\n",
        "\n",
        "∬ = \"double integral\"\n",
        "println(∬)\n",
        "\n",
        "∯ = \"surface integral\"\n",
        "println(∯)"
      ],
      "metadata": {
        "colab": {
          "base_uri": "https://localhost:8080/"
        },
        "id": "ePkTVYu4mTml",
        "outputId": "621b4fdf-b268-47d7-86ab-cbf01dc875cd"
      },
      "execution_count": 22,
      "outputs": [
        {
          "output_type": "stream",
          "name": "stdout",
          "text": [
            "delta\n",
            "sigma\n",
            "phi\n",
            "psi\n",
            "alpha\n",
            "integral\n",
            "double integral\n",
            "surface integral\n"
          ]
        }
      ]
    },
    {
      "cell_type": "markdown",
      "source": [
        "### The triple equal signs\n",
        "\n",
        "Something Julia borrows from JavaScript is the triple equal sign operator. A double equal sign (`==`) tests for equality, meaning simply \"are these two values equal to each other, regardless of type?\"\n",
        "\n",
        "By this logic, the following should both print \"true\", because 1.0 is equivalent to 1 mathematically."
      ],
      "metadata": {
        "id": "ZdBfybvzm9pn"
      }
    },
    {
      "cell_type": "code",
      "source": [
        "println(1.0 == 1)\n",
        "println(1.0 == 1.0)"
      ],
      "metadata": {
        "colab": {
          "base_uri": "https://localhost:8080/"
        },
        "id": "uZGBqjVEnXB4",
        "outputId": "dc8546e1-f5d1-4605-b53f-b12c9c06b173"
      },
      "execution_count": 23,
      "outputs": [
        {
          "output_type": "stream",
          "name": "stdout",
          "text": [
            "true\n",
            "true\n"
          ]
        }
      ]
    },
    {
      "cell_type": "markdown",
      "source": [
        "However, the triple equal sign, `===`, asks the computer to include a variable's type when checking for equality. To a computer, the values `1` and `1.0` are not equal to each other. One is an integer, the other is a float. They have different memory requirements. To a computer, these two values are not necessarily equivalent.\n",
        "\n",
        "By this logic, only one of these should be true:"
      ],
      "metadata": {
        "id": "Rxy5BwyYno3Q"
      }
    },
    {
      "cell_type": "code",
      "source": [
        "println(1.0 === 1)\n",
        "println(1.0 === 1.0)"
      ],
      "metadata": {
        "colab": {
          "base_uri": "https://localhost:8080/"
        },
        "id": "_UjlrwqIn9Po",
        "outputId": "28be97ac-93fc-4a6c-c9f2-ba1ab8674929"
      },
      "execution_count": 24,
      "outputs": [
        {
          "output_type": "stream",
          "name": "stdout",
          "text": [
            "false\n",
            "true\n"
          ]
        }
      ]
    },
    {
      "cell_type": "markdown",
      "source": [
        "### Strings\n",
        "\n",
        "String manipulation in Julia will likely look familiar if you know python.\n",
        "\n",
        "First, strings are saved as indexable arrays, similarly to python. (Spaces are valid locations). Unlike Python (and most other programming languages,) arrays start at 1 as opposed to 0. Julia was designed to be intuitive to anyone, including people who are not very familiar with programming. Arrays also start at 1 in R and MATLAB for this reason."
      ],
      "metadata": {
        "id": "BFsr5zhXoUm3"
      }
    },
    {
      "cell_type": "code",
      "source": [
        "my_str = \"test string\"\n",
        "\n",
        "println(my_str[1])\n",
        "println(my_str[5]) # space character\n",
        "println(my_str[6])"
      ],
      "metadata": {
        "colab": {
          "base_uri": "https://localhost:8080/"
        },
        "id": "HJXvRxLitKgl",
        "outputId": "001a168d-471d-4d16-f036-3e83a6c9ec71"
      },
      "execution_count": 28,
      "outputs": [
        {
          "output_type": "stream",
          "name": "stdout",
          "text": [
            "t\n",
            " \n",
            "s\n"
          ]
        }
      ]
    },
    {
      "cell_type": "markdown",
      "source": [
        "Julia also includes a `length()` function similarly to python. "
      ],
      "metadata": {
        "id": "JF1E5Z3et4b-"
      }
    },
    {
      "cell_type": "code",
      "source": [
        "println(length(my_str))"
      ],
      "metadata": {
        "colab": {
          "base_uri": "https://localhost:8080/"
        },
        "id": "dz7X0RJLt508",
        "outputId": "a5308f44-f96a-4cf9-ef09-74bc95392cdb"
      },
      "execution_count": 29,
      "outputs": [
        {
          "output_type": "stream",
          "name": "stdout",
          "text": [
            "11\n",
            "1\n",
            "11\n"
          ]
        }
      ]
    },
    {
      "cell_type": "markdown",
      "source": [
        "Not every string character in Julia is valid. Because Julia allows you to use any unicode value, some issues arise when trying to index into strings.\n",
        "\n",
        "If you include a unicode character `\\u2200` in a string, the entire unicode value is indexable by `str[1]`. However, if you try to then index into `str[2]`, Julia doesn't recognize this since it's in the middle of what it considers to be a single character.\n",
        "\n",
        "The following code should print out a unicode value on the first line, and then give an error."
      ],
      "metadata": {
        "id": "0l39-HJJuEfd"
      }
    },
    {
      "cell_type": "code",
      "source": [
        "my_str_2 = \"\\u2200 test\"\n",
        "\n",
        "println(my_str_2[1])\n",
        "println(my_str_2[2])"
      ],
      "metadata": {
        "colab": {
          "base_uri": "https://localhost:8080/",
          "height": 361
        },
        "id": "dHcciwc6uzDs",
        "outputId": "143a8c8e-4b29-4061-b946-98233f701809"
      },
      "execution_count": 30,
      "outputs": [
        {
          "output_type": "stream",
          "name": "stdout",
          "text": [
            "∀\n"
          ]
        },
        {
          "output_type": "error",
          "ename": "LoadError",
          "evalue": "ignored",
          "traceback": [
            "StringIndexError: invalid index [2], valid nearby indices [1]=>'∀', [4]=>' '",
            "",
            "Stacktrace:",
            " [1] string_index_err(s::String, i::Int64)",
            "   @ Base ./strings/string.jl:12",
            " [2] getindex_continued(s::String, i::Int64, u::UInt32)",
            "   @ Base ./strings/string.jl:233",
            " [3] getindex(s::String, i::Int64)",
            "   @ Base ./strings/string.jl:226",
            " [4] top-level scope",
            "   @ In[30]:4",
            " [5] eval",
            "   @ ./boot.jl:373 [inlined]",
            " [6] include_string(mapexpr::typeof(REPL.softscope), mod::Module, code::String, filename::String)",
            "   @ Base ./loading.jl:1196"
          ]
        }
      ]
    },
    {
      "cell_type": "markdown",
      "source": [
        "Part of that error includes informing you of what the next valid index is: index 4. This should print a space:"
      ],
      "metadata": {
        "id": "QnfEj_fVvERi"
      }
    },
    {
      "cell_type": "code",
      "source": [
        "println(my_str_2[4])"
      ],
      "metadata": {
        "colab": {
          "base_uri": "https://localhost:8080/"
        },
        "id": "o-O9b6J9vK0Q",
        "outputId": "e286baa2-0cf9-4ada-859d-d1668cb1824f"
      },
      "execution_count": 32,
      "outputs": [
        {
          "output_type": "stream",
          "name": "stdout",
          "text": [
            " \n"
          ]
        }
      ]
    },
    {
      "cell_type": "markdown",
      "source": [
        "Since this can be very unintuitive, Julia has very convenient functions built-in to help with finding valid indices.\n",
        "\n",
        "Some of these include finding the first and last indices, as well as next and previous valid indices. It also has a function to find all valid indices in a function.\n",
        "\n",
        "`firstindex()`\n",
        "`lastindex()`\n",
        "`nextind()`\n",
        "`prevind()`\n",
        "`eachindex()`\n",
        "\n",
        "Some of these are demonstrated below:"
      ],
      "metadata": {
        "id": "U6ks844VvRIa"
      }
    },
    {
      "cell_type": "code",
      "source": [
        "println(firstindex(my_str_2))\n",
        "println(lastindex(my_str_2))\n",
        "\n",
        "println(\"------------------\")\n",
        "\n",
        "collect(eachindex(my_str_2))"
      ],
      "metadata": {
        "colab": {
          "base_uri": "https://localhost:8080/"
        },
        "id": "GEqXL1Y1uDip",
        "outputId": "244271ec-0a1f-44df-ada5-02314bf39cc3"
      },
      "execution_count": 34,
      "outputs": [
        {
          "output_type": "stream",
          "name": "stdout",
          "text": [
            "1\n",
            "8\n",
            "------------------\n"
          ]
        },
        {
          "output_type": "execute_result",
          "data": {
            "text/plain": [
              "6-element Vector{Int64}:\n",
              " 1\n",
              " 4\n",
              " 5\n",
              " 6\n",
              " 7\n",
              " 8"
            ]
          },
          "metadata": {},
          "execution_count": 34
        }
      ]
    },
    {
      "cell_type": "markdown",
      "source": [
        "Notice how `collect(eachindex))` excluded characters 2 and 3 since those are part of the unicode value.\n",
        "\n",
        "Fortunately, Julia is also intelligent enough to know that if you are using the string as an iterable object, it should just skip these automatically."
      ],
      "metadata": {
        "id": "St7ZsZlrwG8c"
      }
    },
    {
      "cell_type": "code",
      "source": [
        "for char in my_str_2\n",
        "  println(char)\n",
        "end"
      ],
      "metadata": {
        "colab": {
          "base_uri": "https://localhost:8080/"
        },
        "id": "q750aw-6wUKK",
        "outputId": "cbad126b-cfc9-4060-e2ba-9a0b857d3670"
      },
      "execution_count": 35,
      "outputs": [
        {
          "output_type": "stream",
          "name": "stdout",
          "text": [
            "∀\n",
            " \n",
            "t\n",
            "e\n",
            "s\n",
            "t\n"
          ]
        }
      ]
    },
    {
      "cell_type": "markdown",
      "source": [
        "Julia also offers easy ways of concatinating strings. While Julia offers multiple ways of doing this, the main one is `*`. Many similar languages use `+`, however, `*` is more intuitive from a mathematics standpoint. `*` is usually used for non-commutative operations. For example, `*` is not commutative for matrices. Similarly, concatenating a string is not commutative. `Hello + World` should not be the same thing as `World + Hello`. Hence, the creators of Julia felt that `*` was a more appropriate operator."
      ],
      "metadata": {
        "id": "P8_Zfc34whw_"
      }
    },
    {
      "cell_type": "code",
      "source": [
        "str_1 = \"Hel\"\n",
        "str_2 = \"lo \"\n",
        "str_3 = \"wor\"\n",
        "str_4 = \"ld!\"\n",
        "println(str_1 * str_2 * str_3 * str_4)\n",
        "println(str_1 * str_2 * str_3 * str_4 * \"!!!\")"
      ],
      "metadata": {
        "colab": {
          "base_uri": "https://localhost:8080/"
        },
        "id": "Au_sh5ldxzdU",
        "outputId": "c3161187-3bdd-4cc8-a0a7-658ceb630488"
      },
      "execution_count": 38,
      "outputs": [
        {
          "output_type": "stream",
          "name": "stdout",
          "text": [
            "Hello world!\n",
            "Hello world!!!!\n"
          ]
        }
      ]
    },
    {
      "cell_type": "markdown",
      "source": [
        "Julia also offers interpolation. Perl is known for being an incredibly easy language to work with strings with. The creators of Julia wanted similar syntax: `$`.\n",
        "\n",
        "Rather than frequently using `str()` or `string()` like in python, they wanted a single character to denote that the expression should be converted to a string."
      ],
      "metadata": {
        "id": "9zdYCBi-yJOY"
      }
    },
    {
      "cell_type": "code",
      "source": [
        "println(\"5 + 6 = $(5 + 6)\")"
      ],
      "metadata": {
        "colab": {
          "base_uri": "https://localhost:8080/"
        },
        "id": "2pXop8fpywQR",
        "outputId": "27b35e5a-c885-45f6-8872-ea1b8b16fb43"
      },
      "execution_count": 39,
      "outputs": [
        {
          "output_type": "stream",
          "name": "stdout",
          "text": [
            "5 + 6 = 11\n"
          ]
        }
      ]
    },
    {
      "cell_type": "markdown",
      "source": [
        "That being said, Julia still offers the programmer the option to use `string()` if this syntax is preferable to you, although it is much longer to type."
      ],
      "metadata": {
        "id": "eOOnECn1y3ZF"
      }
    },
    {
      "cell_type": "code",
      "source": [
        "println(\"5 + 6 = \" * string(5 + 6))"
      ],
      "metadata": {
        "colab": {
          "base_uri": "https://localhost:8080/"
        },
        "id": "zKin21aNy9ql",
        "outputId": "301221b1-e707-44eb-fa56-45de40f97a63"
      },
      "execution_count": 40,
      "outputs": [
        {
          "output_type": "stream",
          "name": "stdout",
          "text": [
            "5 + 6 = 11\n"
          ]
        }
      ]
    },
    {
      "cell_type": "markdown",
      "source": [
        "Just to show equivalency:"
      ],
      "metadata": {
        "id": "KHqkiSBOzJY_"
      }
    },
    {
      "cell_type": "code",
      "source": [
        "s1 = str_1 * str_2 * str_3 * str_4\n",
        "s2 = \"$str_1$str_2$str_3$str_4\"\n",
        "s3 = string(str_1,str_2,str_3,str_4)\n",
        "\n",
        "println(s1 === s2 === s3)"
      ],
      "metadata": {
        "colab": {
          "base_uri": "https://localhost:8080/"
        },
        "id": "QlnlafLlzLCF",
        "outputId": "2a01f82c-8b78-4bce-b858-1357e4b630df"
      },
      "execution_count": 41,
      "outputs": [
        {
          "output_type": "stream",
          "name": "stdout",
          "text": [
            "true\n"
          ]
        }
      ]
    },
    {
      "cell_type": "markdown",
      "source": [
        "### Tuples, Arrays, and Dictionaries\n",
        "\n",
        "Julia has mostly the same data types as Python (or other similar languages).\n",
        "\n",
        "Tuples:"
      ],
      "metadata": {
        "id": "SQHwMiw9zqFQ"
      }
    },
    {
      "cell_type": "code",
      "source": [
        "my_tuple = (\"test\", 1, 2.345, false)\n",
        "\n",
        "println(my_tuple[1])\n",
        "println(my_tuple[2])\n",
        "println(my_tuple[3])\n",
        "println(my_tuple[4])"
      ],
      "metadata": {
        "colab": {
          "base_uri": "https://localhost:8080/"
        },
        "id": "nlDiK5aZ01Eb",
        "outputId": "b2fd0b06-670a-4409-9e04-4c4be90fe056"
      },
      "execution_count": 49,
      "outputs": [
        {
          "output_type": "stream",
          "name": "stdout",
          "text": [
            "test\n",
            "1\n",
            "2.345\n",
            "false\n"
          ]
        }
      ]
    },
    {
      "cell_type": "markdown",
      "source": [
        "(Tuples are immutable in Julia.)\n",
        "\n",
        "Arrays:\n",
        "\n",
        "Similarly to Python, arrays are mutable and can hold any type of element, including multiple element types in the same array.\n",
        "\n",
        "They also have \"push\" and \"pop\" methods to add or take away from an array."
      ],
      "metadata": {
        "id": "_l8lRJYD071e"
      }
    },
    {
      "cell_type": "code",
      "source": [
        "my_arr = [\"test\", 1, 2.345, false]\n",
        "\n",
        "println(my_arr[1])\n",
        "println(my_arr[2])\n",
        "println(my_arr[3])\n",
        "println(my_arr[4])\n",
        "\n",
        "my_arr[3] = 6.789\n",
        "\n",
        "push!(my_arr, \"another string\")\n",
        "println(my_arr)\n",
        "\n",
        "pop!(my_arr)\n",
        "println(my_arr)"
      ],
      "metadata": {
        "colab": {
          "base_uri": "https://localhost:8080/"
        },
        "id": "TzM2ErN11Hw6",
        "outputId": "c07aace3-3470-4523-a14d-2f8616728a12"
      },
      "execution_count": 60,
      "outputs": [
        {
          "output_type": "stream",
          "name": "stdout",
          "text": [
            "test\n",
            "1\n",
            "2.345\n",
            "false\n",
            "Any[\"test\", 1, 6.789, false, \"another string\"]\n",
            "Any[\"test\", 1, 6.789, false]\n"
          ]
        }
      ]
    },
    {
      "cell_type": "markdown",
      "source": [
        "Dictionaries:"
      ],
      "metadata": {
        "id": "OaPf-orb01VU"
      }
    },
    {
      "cell_type": "code",
      "source": [
        "dict = Dict(\"Key1\" => \"Value1\", \"Key2\" => \"Value2\", \"Key3\" => \"Value3\")\n",
        "\n",
        "println(dict)\n",
        "\n",
        "dict[\"Key4\"] = \"Value4\"\n",
        "\n",
        "println(dict)\n",
        "\n"
      ],
      "metadata": {
        "colab": {
          "base_uri": "https://localhost:8080/"
        },
        "id": "SA-DgWTuzpVQ",
        "outputId": "f32ff4b7-55fc-412f-8cd2-44819be1a9e1"
      },
      "execution_count": 47,
      "outputs": [
        {
          "output_type": "stream",
          "name": "stdout",
          "text": [
            "Dict(\"Key3\" => \"Value3\", \"Key2\" => \"Value2\", \"Key1\" => \"Value1\")\n",
            "Dict(\"Key3\" => \"Value3\", \"Key2\" => \"Value2\", \"Key1\" => \"Value1\", \"Key4\" => \"Value4\")\n"
          ]
        }
      ]
    },
    {
      "cell_type": "markdown",
      "source": [
        "Dictionaries also have the built in \"pop\" method."
      ],
      "metadata": {
        "id": "JYV4R5e_0dAs"
      }
    },
    {
      "cell_type": "code",
      "source": [
        "out = pop!(dict, \"Key1\")\n",
        "println(out)\n",
        "println(dict)"
      ],
      "metadata": {
        "colab": {
          "base_uri": "https://localhost:8080/"
        },
        "id": "mi35doJu0hUk",
        "outputId": "7ede2d0c-f21b-460f-dca6-092d92d7a187"
      },
      "execution_count": 48,
      "outputs": [
        {
          "output_type": "stream",
          "name": "stdout",
          "text": [
            "Value1\n",
            "Dict(\"Key3\" => \"Value3\", \"Key2\" => \"Value2\", \"Key4\" => \"Value4\")\n"
          ]
        }
      ]
    },
    {
      "cell_type": "markdown",
      "source": [
        "### Matrices\n",
        "\n",
        "Working with matrices is very common in languages built around mathematics. One of the desired features of Julia was that it be as easy to do linear algebra with as MATLAB, which is short for \"Matrix Laboratory.\" If you are familiar with MATLAB, much of this should look familiar to you.\n",
        "\n",
        "As with most languages, \"matrices\" are actually multi-dimensional arrays, or in other words, arrays that are holding elements of the type \"array\"."
      ],
      "metadata": {
        "id": "FJxVV8eX2FAI"
      }
    },
    {
      "cell_type": "code",
      "source": [
        "array_array = [[1,2,3],[4,5,6],[7,8,9]]\n",
        "println(array_array)"
      ],
      "metadata": {
        "colab": {
          "base_uri": "https://localhost:8080/"
        },
        "id": "BWnDeXil2yYt",
        "outputId": "696225d6-c31b-46bd-a193-45c1704a42cc"
      },
      "execution_count": 61,
      "outputs": [
        {
          "output_type": "stream",
          "name": "stdout",
          "text": [
            "[[1, 2, 3], [4, 5, 6], [7, 8, 9]]\n"
          ]
        }
      ]
    },
    {
      "cell_type": "markdown",
      "source": [
        "Julia  has many built-in functions for working with these, which we won't go over all of now since many are self explanatory, but here is a list of common ones also available with similar syntax in MATLAB:\n",
        "\n",
        "* `length(matrix)`: the number of elements in the matrix\n",
        "* `ndims(matrix)`: the number of dimensions in the matrix\n",
        "* `size(matrix)`: a tuple containing the dimensions\n",
        "* `size(matrix,n)`: the size along a specific dimension\n",
        "* `axes(matrix)`: a tuple containing the valid indices of the matrix\n",
        "* `axes(matrix,n)`: a range of valid indices along a specific dimension"
      ],
      "metadata": {
        "id": "vc5ytgrw3Jm6"
      }
    },
    {
      "cell_type": "code",
      "source": [
        "println(ndims(array_array))\n",
        "\n",
        "println(size(array_array,1))"
      ],
      "metadata": {
        "colab": {
          "base_uri": "https://localhost:8080/"
        },
        "id": "asayBZLI3tXu",
        "outputId": "8502c75d-62a2-4591-ff38-7f78d8759e43"
      },
      "execution_count": 64,
      "outputs": [
        {
          "output_type": "stream",
          "name": "stdout",
          "text": [
            "1\n",
            "3\n"
          ]
        }
      ]
    },
    {
      "cell_type": "markdown",
      "source": [
        "Julia also has some fun built-in functions to help with matrix construction.\n",
        "\n",
        "For example, declaring arrays with all zeros, arrays with random numbers, or diagonal matrices."
      ],
      "metadata": {
        "id": "2An558Nn4Nb4"
      }
    },
    {
      "cell_type": "code",
      "source": [
        "randArr = rand(2,3)\n",
        "println(randArr)\n",
        "\n",
        "zeroArr = zeros(2,3)\n",
        "println(zeroArr)\n",
        "\n",
        "diagArr = Diagonal([1,2,3])\n",
        "println(diagArr)"
      ],
      "metadata": {
        "colab": {
          "base_uri": "https://localhost:8080/"
        },
        "id": "JDSMIN3L4Zz_",
        "outputId": "7fb82af1-c839-459c-d90a-206232d3011b"
      },
      "execution_count": 76,
      "outputs": [
        {
          "output_type": "stream",
          "name": "stdout",
          "text": [
            "[0.1871449960383501 0.858666499051674 0.9129624002386127; 0.07721324272062269 0.41313550392912224 0.42013537949110047]\n",
            "[0.0 0.0 0.0; 0.0 0.0 0.0]\n",
            "[1 0 0; 0 2 0; 0 0 3]\n"
          ]
        }
      ]
    },
    {
      "cell_type": "markdown",
      "source": [
        "It also has a library, `Linear Algebra` to help with some more mathy stuff."
      ],
      "metadata": {
        "id": "0KFBbg865uDH"
      }
    },
    {
      "cell_type": "code",
      "source": [
        "using LinearAlgebra\n",
        "\n",
        "# Create an identity matrix\n",
        "identityMatrix = LinearAlgebra.Matrix{Int8}(I, 5, 5)\n",
        "println(identityMatrix)"
      ],
      "metadata": {
        "colab": {
          "base_uri": "https://localhost:8080/"
        },
        "id": "2UJgj85r5zBE",
        "outputId": "2d8ecc2a-98ca-4cbe-8ae0-208604631dd4"
      },
      "execution_count": 78,
      "outputs": [
        {
          "output_type": "stream",
          "name": "stdout",
          "text": [
            "Int8[1 0 0 0 0; 0 1 0 0 0; 0 0 1 0 0; 0 0 0 1 0; 0 0 0 0 1]\n"
          ]
        }
      ]
    },
    {
      "cell_type": "markdown",
      "source": [
        "Above is the syntax for how to include the library in your code and how to call specific functions within it.\n",
        "\n",
        "This library includes hundreds of matrix operations, including creating upper triangular matrices, diagonal matrices, and all the matrix operations. It also includes several types of factorizations!"
      ],
      "metadata": {
        "id": "IP_eqdkm6J_V"
      }
    },
    {
      "cell_type": "markdown",
      "source": [
        "### Functions and Loops\n",
        "\n",
        "Julia takes inspiration from MATLAB for it's function syntax. \n",
        "\n",
        "Functions are declared with the `function` keyword, followed by the name of the function and parenthesis. Unlike python, you don't need a colon to indicate the start of a function (or any other type of loop- just whitespace). You do, however, need to indicate where your loops and functions are ending. This is intuitively done with the keyword `end`.\n",
        "\n",
        "Here are a few examples of functions, all of which print out the exact same thing. (You can comment them out and rerun if you want.)"
      ],
      "metadata": {
        "id": "RwlscBk-709n"
      }
    },
    {
      "cell_type": "code",
      "source": [
        "function printNumsWhileLoop()\n",
        "  n = 0\n",
        "  while n < 10\n",
        "    n += 1\n",
        "    println(n)\n",
        "  end\n",
        "end\n",
        "\n",
        "function printNumsForLoop()\n",
        "  for i = 1:10\n",
        "    println(i)\n",
        "  end\n",
        "end\n",
        "\n",
        "function printNumsForElement()\n",
        "  for i ∈ 1:10\n",
        "    println(i)\n",
        "  end\n",
        "end\n",
        "\n",
        "#printNumsWhileLoop()\n",
        "printNumsForLoop()\n",
        "#printNumsForElement()"
      ],
      "metadata": {
        "colab": {
          "base_uri": "https://localhost:8080/"
        },
        "id": "u6s5qQi273Jy",
        "outputId": "61642ad7-23f9-495e-991b-f3a0eb975d31"
      },
      "execution_count": 85,
      "outputs": [
        {
          "output_type": "stream",
          "name": "stdout",
          "text": [
            "1\n",
            "2\n",
            "3\n",
            "4\n",
            "5\n",
            "6\n",
            "7\n",
            "8\n",
            "9\n",
            "10\n"
          ]
        }
      ]
    },
    {
      "cell_type": "markdown",
      "source": [
        "In Julia, ranges are done using `start:stop`. The start value, followed by a colon, then the end value. Both the start and stop are inclusive (meaning if you start on 1 and end on 10, both 1 and 10 are included. Python excludes the stop value, so it would only print 1-9.) \n",
        "\n",
        "Here's an example of a nested for loop:"
      ],
      "metadata": {
        "id": "ky_XvYYrCzuV"
      }
    },
    {
      "cell_type": "code",
      "source": [
        "function additionTable(m,n)\n",
        "  A = zeros(m,n)\n",
        "  for i in 1:m \n",
        "    for j in 1:n \n",
        "      A[i, j] = i + j\n",
        "    end\n",
        "  end\n",
        "  return A\n",
        "end\n",
        "\n",
        "additionTable(5,5)"
      ],
      "metadata": {
        "colab": {
          "base_uri": "https://localhost:8080/"
        },
        "id": "roPKDNzRO3wJ",
        "outputId": "db6e7152-a7a9-4ba1-fc97-962f06b94055"
      },
      "execution_count": 89,
      "outputs": [
        {
          "output_type": "execute_result",
          "data": {
            "text/plain": [
              "5×5 Matrix{Float64}:\n",
              " 2.0  3.0  4.0  5.0   6.0\n",
              " 3.0  4.0  5.0  6.0   7.0\n",
              " 4.0  5.0  6.0  7.0   8.0\n",
              " 5.0  6.0  7.0  8.0   9.0\n",
              " 6.0  7.0  8.0  9.0  10.0"
            ]
          },
          "metadata": {},
          "execution_count": 89
        }
      ]
    },
    {
      "cell_type": "markdown",
      "source": [
        "Julia allows you to do both for loops in one line with a single `end` keyword."
      ],
      "metadata": {
        "id": "V6iu47-mQiTQ"
      }
    },
    {
      "cell_type": "code",
      "source": [
        "function additionTable2(m,n)\n",
        "  A = zeros(m,n)\n",
        "  for i in 1:m, j in 1:n \n",
        "      A[i, j] = i + j\n",
        "  end\n",
        "  return A\n",
        "end\n",
        "\n",
        "additionTable2(5,5)"
      ],
      "metadata": {
        "colab": {
          "base_uri": "https://localhost:8080/"
        },
        "id": "uPIwL8MfQl3D",
        "outputId": "13a1c5bf-5926-44ae-8612-b064f76a1d67"
      },
      "execution_count": 93,
      "outputs": [
        {
          "output_type": "execute_result",
          "data": {
            "text/plain": [
              "5×5 Matrix{Float64}:\n",
              " 2.0  3.0  4.0  5.0   6.0\n",
              " 3.0  4.0  5.0  6.0   7.0\n",
              " 4.0  5.0  6.0  7.0   8.0\n",
              " 5.0  6.0  7.0  8.0   9.0\n",
              " 6.0  7.0  8.0  9.0  10.0"
            ]
          },
          "metadata": {},
          "execution_count": 93
        }
      ]
    },
    {
      "cell_type": "markdown",
      "source": [
        "One more way using array comprehension (similarly to list comprehension in Python):"
      ],
      "metadata": {
        "id": "qc7JyN0SQwsT"
      }
    },
    {
      "cell_type": "code",
      "source": [
        "function additionTable3(m,n)\n",
        "  return [i + j for i in 1:m, j in 1:n]\n",
        "end\n",
        "\n",
        "additionTable3(5,5)"
      ],
      "metadata": {
        "colab": {
          "base_uri": "https://localhost:8080/"
        },
        "id": "hnrIRxwJQzUO",
        "outputId": "14652743-397f-44ee-ec5f-a40d4b6ba13c"
      },
      "execution_count": 94,
      "outputs": [
        {
          "output_type": "execute_result",
          "data": {
            "text/plain": [
              "5×5 Matrix{Int64}:\n",
              " 2  3  4  5   6\n",
              " 3  4  5  6   7\n",
              " 4  5  6  7   8\n",
              " 5  6  7  8   9\n",
              " 6  7  8  9  10"
            ]
          },
          "metadata": {},
          "execution_count": 94
        }
      ]
    },
    {
      "cell_type": "markdown",
      "source": [
        "### Conditionals\n",
        "\n",
        "Julia also allows you to do conditionals very similarly to other programming languages. You use `if`, `elseif`, `else`, and `end` to indicate logical flows."
      ],
      "metadata": {
        "id": "ijO1_ZxwRDMI"
      }
    },
    {
      "cell_type": "code",
      "source": [
        "function conditional(m)\n",
        "  if m === 0\n",
        "    println(\"zero\")\n",
        "  elseif m > 0\n",
        "    println(\"positive\")\n",
        "  else\n",
        "    println(\"negative\")\n",
        "  end\n",
        "end\n",
        "\n",
        "conditional(0)\n",
        "conditional(1)\n",
        "conditional(-1)"
      ],
      "metadata": {
        "colab": {
          "base_uri": "https://localhost:8080/"
        },
        "id": "7-qdbJTyRSub",
        "outputId": "94327595-7b2c-4b53-dd34-3121296e9b71"
      },
      "execution_count": 95,
      "outputs": [
        {
          "output_type": "stream",
          "name": "stdout",
          "text": [
            "zero\n",
            "positive\n",
            "negative\n"
          ]
        }
      ]
    },
    {
      "cell_type": "markdown",
      "source": [
        "Julia also allows complex conditionals the same way many other languages do. `&&` indicates the logical \"and\", while `||` indicates the logical \"or.\""
      ],
      "metadata": {
        "id": "xfooBpkTRmII"
      }
    },
    {
      "cell_type": "code",
      "source": [
        "function complexConditional(m,n)\n",
        "  if (m > 0) && (n > 0)\n",
        "    println(\"both positive\")\n",
        "  elseif (m > 0) || (n > 0)\n",
        "    println(\"one positive\")\n",
        "  else\n",
        "    println(\"neither positive\")\n",
        "  end\n",
        "end\n",
        "\n",
        "complexConditional(2,3)\n",
        "complexConditional(-2,3)\n",
        "complexConditional(-2,-3)"
      ],
      "metadata": {
        "colab": {
          "base_uri": "https://localhost:8080/"
        },
        "id": "-Rk4p2UtRugW",
        "outputId": "114ca9df-1dd9-4baf-c8e1-ecd70258b6b8"
      },
      "execution_count": 96,
      "outputs": [
        {
          "output_type": "stream",
          "name": "stdout",
          "text": [
            "both positive\n",
            "one positive\n",
            "neither positive\n"
          ]
        }
      ]
    },
    {
      "cell_type": "markdown",
      "source": [
        "General note about functions: They are always pass-by-value in Julia as a default!!!\n",
        "\n",
        "---\n",
        "\n",
        "We hope you enjoyed this brief introduction to Julia! Please let us know in the feedback survey what else you would like to see or if we forgot anything!"
      ],
      "metadata": {
        "id": "SU2-QfAqSDbP"
      }
    }
  ]
}